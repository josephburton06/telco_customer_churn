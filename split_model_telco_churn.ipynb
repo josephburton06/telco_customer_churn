{
 "cells": [
  {
   "cell_type": "code",
   "execution_count": 1,
   "metadata": {},
   "outputs": [],
   "source": [
    "import warnings\n",
    "warnings.filterwarnings(\"ignore\")\n",
    "\n",
    "import numpy as np\n",
    "import matplotlib.pyplot as plt\n",
    "import pandas as pd\n",
    "from scipy import stats\n",
    "\n",
    "import jb_helper_functions_prep\n",
    "from jb_helper_functions_prep import create_enc\n",
    "\n",
    "import prep_telco\n",
    "from prep_telco import prep_telco_df\n",
    "\n",
    "from sklearn.model_selection import train_test_split\n",
    "from sklearn.linear_model import LogisticRegression\n",
    "from sklearn.tree import DecisionTreeClassifier\n",
    "from sklearn.metrics import classification_report\n",
    "from sklearn.metrics import confusion_matrix\n",
    "from sklearn import tree"
   ]
  },
  {
   "cell_type": "code",
   "execution_count": 2,
   "metadata": {},
   "outputs": [
    {
     "data": {
      "text/html": [
       "<div>\n",
       "<style scoped>\n",
       "    .dataframe tbody tr th:only-of-type {\n",
       "        vertical-align: middle;\n",
       "    }\n",
       "\n",
       "    .dataframe tbody tr th {\n",
       "        vertical-align: top;\n",
       "    }\n",
       "\n",
       "    .dataframe thead th {\n",
       "        text-align: right;\n",
       "    }\n",
       "</style>\n",
       "<table border=\"1\" class=\"dataframe\">\n",
       "  <thead>\n",
       "    <tr style=\"text-align: right;\">\n",
       "      <th></th>\n",
       "      <th>customerid</th>\n",
       "      <th>gender</th>\n",
       "      <th>seniorcitizen</th>\n",
       "      <th>partner</th>\n",
       "      <th>dependents</th>\n",
       "      <th>tenure</th>\n",
       "      <th>phoneservice</th>\n",
       "      <th>multiplelines</th>\n",
       "      <th>internetservice</th>\n",
       "      <th>onlinesecurity</th>\n",
       "      <th>...</th>\n",
       "      <th>onlinesecurity_enc</th>\n",
       "      <th>onlinebackup_enc</th>\n",
       "      <th>deviceprotection_enc</th>\n",
       "      <th>techsupport_enc</th>\n",
       "      <th>streamingtv_enc</th>\n",
       "      <th>streamingmovies_enc</th>\n",
       "      <th>contract_enc</th>\n",
       "      <th>paperlessbilling_enc</th>\n",
       "      <th>paymentmethod_enc</th>\n",
       "      <th>churn_enc</th>\n",
       "    </tr>\n",
       "  </thead>\n",
       "  <tbody>\n",
       "    <tr>\n",
       "      <th>0</th>\n",
       "      <td>7590-VHVEG</td>\n",
       "      <td>Female</td>\n",
       "      <td>0</td>\n",
       "      <td>Yes</td>\n",
       "      <td>No</td>\n",
       "      <td>1</td>\n",
       "      <td>No</td>\n",
       "      <td>No phone service</td>\n",
       "      <td>DSL</td>\n",
       "      <td>No</td>\n",
       "      <td>...</td>\n",
       "      <td>0</td>\n",
       "      <td>2</td>\n",
       "      <td>0</td>\n",
       "      <td>0</td>\n",
       "      <td>0</td>\n",
       "      <td>0</td>\n",
       "      <td>0</td>\n",
       "      <td>1</td>\n",
       "      <td>2</td>\n",
       "      <td>0</td>\n",
       "    </tr>\n",
       "    <tr>\n",
       "      <th>1</th>\n",
       "      <td>5575-GNVDE</td>\n",
       "      <td>Male</td>\n",
       "      <td>0</td>\n",
       "      <td>No</td>\n",
       "      <td>No</td>\n",
       "      <td>34</td>\n",
       "      <td>Yes</td>\n",
       "      <td>No</td>\n",
       "      <td>DSL</td>\n",
       "      <td>Yes</td>\n",
       "      <td>...</td>\n",
       "      <td>2</td>\n",
       "      <td>0</td>\n",
       "      <td>2</td>\n",
       "      <td>0</td>\n",
       "      <td>0</td>\n",
       "      <td>0</td>\n",
       "      <td>1</td>\n",
       "      <td>0</td>\n",
       "      <td>3</td>\n",
       "      <td>0</td>\n",
       "    </tr>\n",
       "    <tr>\n",
       "      <th>2</th>\n",
       "      <td>3668-QPYBK</td>\n",
       "      <td>Male</td>\n",
       "      <td>0</td>\n",
       "      <td>No</td>\n",
       "      <td>No</td>\n",
       "      <td>2</td>\n",
       "      <td>Yes</td>\n",
       "      <td>No</td>\n",
       "      <td>DSL</td>\n",
       "      <td>Yes</td>\n",
       "      <td>...</td>\n",
       "      <td>2</td>\n",
       "      <td>2</td>\n",
       "      <td>0</td>\n",
       "      <td>0</td>\n",
       "      <td>0</td>\n",
       "      <td>0</td>\n",
       "      <td>0</td>\n",
       "      <td>1</td>\n",
       "      <td>3</td>\n",
       "      <td>1</td>\n",
       "    </tr>\n",
       "    <tr>\n",
       "      <th>3</th>\n",
       "      <td>7795-CFOCW</td>\n",
       "      <td>Male</td>\n",
       "      <td>0</td>\n",
       "      <td>No</td>\n",
       "      <td>No</td>\n",
       "      <td>45</td>\n",
       "      <td>No</td>\n",
       "      <td>No phone service</td>\n",
       "      <td>DSL</td>\n",
       "      <td>Yes</td>\n",
       "      <td>...</td>\n",
       "      <td>2</td>\n",
       "      <td>0</td>\n",
       "      <td>2</td>\n",
       "      <td>2</td>\n",
       "      <td>0</td>\n",
       "      <td>0</td>\n",
       "      <td>1</td>\n",
       "      <td>0</td>\n",
       "      <td>0</td>\n",
       "      <td>0</td>\n",
       "    </tr>\n",
       "    <tr>\n",
       "      <th>4</th>\n",
       "      <td>9237-HQITU</td>\n",
       "      <td>Female</td>\n",
       "      <td>0</td>\n",
       "      <td>No</td>\n",
       "      <td>No</td>\n",
       "      <td>2</td>\n",
       "      <td>Yes</td>\n",
       "      <td>No</td>\n",
       "      <td>Fiber optic</td>\n",
       "      <td>No</td>\n",
       "      <td>...</td>\n",
       "      <td>0</td>\n",
       "      <td>0</td>\n",
       "      <td>0</td>\n",
       "      <td>0</td>\n",
       "      <td>0</td>\n",
       "      <td>0</td>\n",
       "      <td>0</td>\n",
       "      <td>1</td>\n",
       "      <td>2</td>\n",
       "      <td>1</td>\n",
       "    </tr>\n",
       "  </tbody>\n",
       "</table>\n",
       "<p>5 rows × 37 columns</p>\n",
       "</div>"
      ],
      "text/plain": [
       "   customerid  gender  seniorcitizen partner dependents  tenure phoneservice  \\\n",
       "0  7590-VHVEG  Female              0     Yes         No       1           No   \n",
       "1  5575-GNVDE    Male              0      No         No      34          Yes   \n",
       "2  3668-QPYBK    Male              0      No         No       2          Yes   \n",
       "3  7795-CFOCW    Male              0      No         No      45           No   \n",
       "4  9237-HQITU  Female              0      No         No       2          Yes   \n",
       "\n",
       "      multiplelines internetservice onlinesecurity    ...      \\\n",
       "0  No phone service             DSL             No    ...       \n",
       "1                No             DSL            Yes    ...       \n",
       "2                No             DSL            Yes    ...       \n",
       "3  No phone service             DSL            Yes    ...       \n",
       "4                No     Fiber optic             No    ...       \n",
       "\n",
       "  onlinesecurity_enc onlinebackup_enc deviceprotection_enc techsupport_enc  \\\n",
       "0                  0                2                    0               0   \n",
       "1                  2                0                    2               0   \n",
       "2                  2                2                    0               0   \n",
       "3                  2                0                    2               2   \n",
       "4                  0                0                    0               0   \n",
       "\n",
       "  streamingtv_enc streamingmovies_enc contract_enc paperlessbilling_enc  \\\n",
       "0               0                   0            0                    1   \n",
       "1               0                   0            1                    0   \n",
       "2               0                   0            0                    1   \n",
       "3               0                   0            1                    0   \n",
       "4               0                   0            0                    1   \n",
       "\n",
       "   paymentmethod_enc  churn_enc  \n",
       "0                  2          0  \n",
       "1                  3          0  \n",
       "2                  3          1  \n",
       "3                  0          0  \n",
       "4                  2          1  \n",
       "\n",
       "[5 rows x 37 columns]"
      ]
     },
     "execution_count": 2,
     "metadata": {},
     "output_type": "execute_result"
    }
   ],
   "source": [
    "df = prep_telco_df()\n",
    "df.head()"
   ]
  },
  {
   "cell_type": "code",
   "execution_count": 3,
   "metadata": {},
   "outputs": [
    {
     "data": {
      "text/plain": [
       "array(['DSL', 'Fiber optic', 'No'], dtype=object)"
      ]
     },
     "execution_count": 3,
     "metadata": {},
     "output_type": "execute_result"
    }
   ],
   "source": [
    "df.internetservice.unique()"
   ]
  },
  {
   "cell_type": "code",
   "execution_count": 4,
   "metadata": {},
   "outputs": [],
   "source": [
    "fiber_df = df[df.internetservice == 'Fiber optic']"
   ]
  },
  {
   "cell_type": "code",
   "execution_count": 5,
   "metadata": {},
   "outputs": [],
   "source": [
    "fiber_train, fiber_test = train_test_split(fiber_df, test_size=.3, random_state=123, stratify=fiber_df[['churn_enc']])"
   ]
  },
  {
   "cell_type": "code",
   "execution_count": 6,
   "metadata": {},
   "outputs": [
    {
     "name": "stdout",
     "output_type": "stream",
     "text": [
      "Percent of fiber_non-churn: 0.5809875403784033\n",
      "Percent of fiber_churn: 0.41901245962159667\n"
     ]
    }
   ],
   "source": [
    "print('Percent of fiber_non-churn: ' + str(fiber_train.churn_enc.value_counts()[0]/fiber_train.churn_enc.count()))\n",
    "print('Percent of fiber_churn: ' + str(fiber_train.churn_enc.value_counts()[1]/fiber_train.churn_enc.count()))"
   ]
  },
  {
   "cell_type": "markdown",
   "metadata": {},
   "source": [
    "### We see that our train set has 58.1% of customers that did not churn.  This is our benchmark for now.  "
   ]
  },
  {
   "cell_type": "code",
   "execution_count": 7,
   "metadata": {},
   "outputs": [],
   "source": [
    "fiber_y_train = fiber_train[['churn_enc']]\n",
    "fiber_y_test = fiber_test[['churn_enc']]"
   ]
  },
  {
   "cell_type": "code",
   "execution_count": 8,
   "metadata": {},
   "outputs": [],
   "source": [
    "fiber_X_train = fiber_train[['tenure', 'monthlycharges', 'internetservice_enc', 'techsupport_enc', 'contract_enc', 'phoneservice_enc']]\n",
    "fiber_X_test = fiber_test[['tenure', 'monthlycharges', 'internetservice_enc', 'techsupport_enc', 'contract_enc', 'phoneservice_enc']]"
   ]
  },
  {
   "cell_type": "markdown",
   "metadata": {},
   "source": [
    "### Let's try a decision tree."
   ]
  },
  {
   "cell_type": "code",
   "execution_count": 12,
   "metadata": {},
   "outputs": [
    {
     "name": "stdout",
     "output_type": "stream",
     "text": [
      "Accuracy of Decision Tree classifier on fiber_training set: 0.713429\n"
     ]
    }
   ],
   "source": [
    "fiber_clf = DecisionTreeClassifier(criterion='entropy', max_depth=5, random_state=123).fit(fiber_X_train, fiber_y_train)\n",
    "fiber_y_pred = fiber_clf.predict(fiber_X_train)\n",
    "fiber_y_pred_proba = fiber_clf.predict_proba(fiber_X_train)\n",
    "print('Accuracy of Decision Tree classifier on fiber_training set: {:.6f}'\n",
    "     .format(fiber_clf.score(fiber_X_train, fiber_y_train)))\n"
   ]
  },
  {
   "cell_type": "code",
   "execution_count": 13,
   "metadata": {},
   "outputs": [
    {
     "name": "stdout",
     "output_type": "stream",
     "text": [
      "              precision    recall  f1-score   support\n",
      "\n",
      "           0       0.75      0.77      0.76      1259\n",
      "           1       0.66      0.64      0.65       908\n",
      "\n",
      "   micro avg       0.71      0.71      0.71      2167\n",
      "   macro avg       0.71      0.70      0.70      2167\n",
      "weighted avg       0.71      0.71      0.71      2167\n",
      "\n"
     ]
    }
   ],
   "source": [
    "print(classification_report(fiber_y_train, fiber_y_pred))"
   ]
  },
  {
   "cell_type": "code",
   "execution_count": 14,
   "metadata": {},
   "outputs": [
    {
     "data": {
      "text/html": [
       "<div>\n",
       "<style scoped>\n",
       "    .dataframe tbody tr th:only-of-type {\n",
       "        vertical-align: middle;\n",
       "    }\n",
       "\n",
       "    .dataframe tbody tr th {\n",
       "        vertical-align: top;\n",
       "    }\n",
       "\n",
       "    .dataframe thead th {\n",
       "        text-align: right;\n",
       "    }\n",
       "</style>\n",
       "<table border=\"1\" class=\"dataframe\">\n",
       "  <thead>\n",
       "    <tr style=\"text-align: right;\">\n",
       "      <th></th>\n",
       "      <th>Pred -</th>\n",
       "      <th>Pred +</th>\n",
       "    </tr>\n",
       "  </thead>\n",
       "  <tbody>\n",
       "    <tr>\n",
       "      <th>Actual -</th>\n",
       "      <td>965</td>\n",
       "      <td>294</td>\n",
       "    </tr>\n",
       "    <tr>\n",
       "      <th>Actual +</th>\n",
       "      <td>327</td>\n",
       "      <td>581</td>\n",
       "    </tr>\n",
       "  </tbody>\n",
       "</table>\n",
       "</div>"
      ],
      "text/plain": [
       "          Pred -  Pred +\n",
       "Actual -     965     294\n",
       "Actual +     327     581"
      ]
     },
     "execution_count": 14,
     "metadata": {},
     "output_type": "execute_result"
    }
   ],
   "source": [
    "fiber_cm = pd.DataFrame(confusion_matrix(fiber_y_train, fiber_y_pred),\n",
    "             columns=['Pred -', 'Pred +'], index=['Actual -', 'Actual +'])\n",
    "\n",
    "fiber_cm"
   ]
  },
  {
   "cell_type": "markdown",
   "metadata": {},
   "source": [
    "### Now, let's try logistic regression."
   ]
  },
  {
   "cell_type": "code",
   "execution_count": 15,
   "metadata": {},
   "outputs": [
    {
     "name": "stdout",
     "output_type": "stream",
     "text": [
      "Accuracy of Logistic Regression classifier on training set: 0.701892\n"
     ]
    }
   ],
   "source": [
    "fiber_log_reg = LogisticRegression(random_state=123, solver='saga').fit(fiber_X_train, fiber_y_train)\n",
    "fiber_y_pred = fiber_log_reg.predict(fiber_X_train)\n",
    "print('Accuracy of Logistic Regression classifier on training set: {:.6f}'\n",
    "     .format(fiber_log_reg.score(fiber_X_train, fiber_y_train)))"
   ]
  },
  {
   "cell_type": "code",
   "execution_count": 16,
   "metadata": {},
   "outputs": [
    {
     "name": "stdout",
     "output_type": "stream",
     "text": [
      "              precision    recall  f1-score   support\n",
      "\n",
      "           0       0.76      0.72      0.74      1259\n",
      "           1       0.63      0.68      0.66       908\n",
      "\n",
      "   micro avg       0.70      0.70      0.70      2167\n",
      "   macro avg       0.70      0.70      0.70      2167\n",
      "weighted avg       0.71      0.70      0.70      2167\n",
      "\n"
     ]
    }
   ],
   "source": [
    "print(classification_report(fiber_y_train, fiber_y_pred))"
   ]
  },
  {
   "cell_type": "code",
   "execution_count": 17,
   "metadata": {},
   "outputs": [
    {
     "data": {
      "text/html": [
       "<div>\n",
       "<style scoped>\n",
       "    .dataframe tbody tr th:only-of-type {\n",
       "        vertical-align: middle;\n",
       "    }\n",
       "\n",
       "    .dataframe tbody tr th {\n",
       "        vertical-align: top;\n",
       "    }\n",
       "\n",
       "    .dataframe thead th {\n",
       "        text-align: right;\n",
       "    }\n",
       "</style>\n",
       "<table border=\"1\" class=\"dataframe\">\n",
       "  <thead>\n",
       "    <tr style=\"text-align: right;\">\n",
       "      <th></th>\n",
       "      <th>Pred -</th>\n",
       "      <th>Pred +</th>\n",
       "    </tr>\n",
       "  </thead>\n",
       "  <tbody>\n",
       "    <tr>\n",
       "      <th>Actual -</th>\n",
       "      <td>903</td>\n",
       "      <td>356</td>\n",
       "    </tr>\n",
       "    <tr>\n",
       "      <th>Actual +</th>\n",
       "      <td>290</td>\n",
       "      <td>618</td>\n",
       "    </tr>\n",
       "  </tbody>\n",
       "</table>\n",
       "</div>"
      ],
      "text/plain": [
       "          Pred -  Pred +\n",
       "Actual -     903     356\n",
       "Actual +     290     618"
      ]
     },
     "execution_count": 17,
     "metadata": {},
     "output_type": "execute_result"
    }
   ],
   "source": [
    "fiber_cm = pd.DataFrame(confusion_matrix(fiber_y_train, fiber_y_pred),\n",
    "             columns=['Pred -', 'Pred +'], index=['Actual -', 'Actual +'])\n",
    "\n",
    "fiber_cm"
   ]
  },
  {
   "cell_type": "markdown",
   "metadata": {},
   "source": [
    "### Let's see how these compare to a keras ANN model."
   ]
  },
  {
   "cell_type": "code",
   "execution_count": 18,
   "metadata": {},
   "outputs": [
    {
     "name": "stderr",
     "output_type": "stream",
     "text": [
      "Using TensorFlow backend.\n"
     ]
    }
   ],
   "source": [
    "from sklearn.preprocessing import StandardScaler\n",
    "\n",
    "import keras\n",
    "from keras.models import Sequential\n",
    "from keras.layers import Dense\n",
    "\n",
    "sc = StandardScaler()\n",
    "fiber_X_train = sc.fit_transform(fiber_X_train)\n",
    "fiber_X_test = sc.transform(fiber_X_test)"
   ]
  },
  {
   "cell_type": "code",
   "execution_count": 20,
   "metadata": {},
   "outputs": [
    {
     "name": "stdout",
     "output_type": "stream",
     "text": [
      "WARNING:tensorflow:From /usr/local/anaconda3/lib/python3.7/site-packages/tensorflow/python/ops/math_ops.py:3066: to_int32 (from tensorflow.python.ops.math_ops) is deprecated and will be removed in a future version.\n",
      "Instructions for updating:\n",
      "Use tf.cast instead.\n",
      "Epoch 1/100\n",
      "2167/2167 [==============================] - 0s 187us/step - loss: 0.6905 - acc: 0.5773\n",
      "Epoch 2/100\n",
      "2167/2167 [==============================] - 0s 38us/step - loss: 0.6789 - acc: 0.5810\n",
      "Epoch 3/100\n",
      "2167/2167 [==============================] - 0s 38us/step - loss: 0.6509 - acc: 0.6188\n",
      "Epoch 4/100\n",
      "2167/2167 [==============================] - 0s 36us/step - loss: 0.6157 - acc: 0.6904\n",
      "Epoch 5/100\n",
      "2167/2167 [==============================] - 0s 35us/step - loss: 0.5914 - acc: 0.6904\n",
      "Epoch 6/100\n",
      "2167/2167 [==============================] - 0s 36us/step - loss: 0.5797 - acc: 0.6894\n",
      "Epoch 7/100\n",
      "2167/2167 [==============================] - 0s 37us/step - loss: 0.5744 - acc: 0.6940\n",
      "Epoch 8/100\n",
      "2167/2167 [==============================] - 0s 37us/step - loss: 0.5722 - acc: 0.6945\n",
      "Epoch 9/100\n",
      "2167/2167 [==============================] - 0s 36us/step - loss: 0.5700 - acc: 0.6968\n",
      "Epoch 10/100\n",
      "2167/2167 [==============================] - 0s 37us/step - loss: 0.5688 - acc: 0.6977\n",
      "Epoch 11/100\n",
      "2167/2167 [==============================] - 0s 44us/step - loss: 0.5675 - acc: 0.6968\n",
      "Epoch 12/100\n",
      "2167/2167 [==============================] - 0s 44us/step - loss: 0.5668 - acc: 0.6982\n",
      "Epoch 13/100\n",
      "2167/2167 [==============================] - 0s 40us/step - loss: 0.5665 - acc: 0.6945\n",
      "Epoch 14/100\n",
      "2167/2167 [==============================] - 0s 35us/step - loss: 0.5658 - acc: 0.7010\n",
      "Epoch 15/100\n",
      "2167/2167 [==============================] - 0s 38us/step - loss: 0.5653 - acc: 0.6954\n",
      "Epoch 16/100\n",
      "2167/2167 [==============================] - 0s 36us/step - loss: 0.5651 - acc: 0.6996\n",
      "Epoch 17/100\n",
      "2167/2167 [==============================] - 0s 33us/step - loss: 0.5650 - acc: 0.6987\n",
      "Epoch 18/100\n",
      "2167/2167 [==============================] - 0s 37us/step - loss: 0.5645 - acc: 0.6977\n",
      "Epoch 19/100\n",
      "2167/2167 [==============================] - 0s 37us/step - loss: 0.5641 - acc: 0.7010\n",
      "Epoch 20/100\n",
      "2167/2167 [==============================] - 0s 40us/step - loss: 0.5638 - acc: 0.7056\n",
      "Epoch 21/100\n",
      "2167/2167 [==============================] - 0s 37us/step - loss: 0.5636 - acc: 0.6959\n",
      "Epoch 22/100\n",
      "2167/2167 [==============================] - 0s 38us/step - loss: 0.5632 - acc: 0.7010\n",
      "Epoch 23/100\n",
      "2167/2167 [==============================] - 0s 35us/step - loss: 0.5630 - acc: 0.7019\n",
      "Epoch 24/100\n",
      "2167/2167 [==============================] - 0s 34us/step - loss: 0.5630 - acc: 0.7033\n",
      "Epoch 25/100\n",
      "2167/2167 [==============================] - 0s 36us/step - loss: 0.5626 - acc: 0.7033\n",
      "Epoch 26/100\n",
      "2167/2167 [==============================] - 0s 35us/step - loss: 0.5624 - acc: 0.7060\n",
      "Epoch 27/100\n",
      "2167/2167 [==============================] - 0s 37us/step - loss: 0.5624 - acc: 0.7070\n",
      "Epoch 28/100\n",
      "2167/2167 [==============================] - 0s 39us/step - loss: 0.5624 - acc: 0.7056\n",
      "Epoch 29/100\n",
      "2167/2167 [==============================] - 0s 41us/step - loss: 0.5620 - acc: 0.7074\n",
      "Epoch 30/100\n",
      "2167/2167 [==============================] - 0s 42us/step - loss: 0.5619 - acc: 0.7084\n",
      "Epoch 31/100\n",
      "2167/2167 [==============================] - 0s 44us/step - loss: 0.5619 - acc: 0.7079\n",
      "Epoch 32/100\n",
      "2167/2167 [==============================] - 0s 43us/step - loss: 0.5616 - acc: 0.7070\n",
      "Epoch 33/100\n",
      "2167/2167 [==============================] - 0s 42us/step - loss: 0.5616 - acc: 0.7074\n",
      "Epoch 34/100\n",
      "2167/2167 [==============================] - 0s 42us/step - loss: 0.5617 - acc: 0.7097\n",
      "Epoch 35/100\n",
      "2167/2167 [==============================] - 0s 41us/step - loss: 0.5613 - acc: 0.7070\n",
      "Epoch 36/100\n",
      "2167/2167 [==============================] - 0s 39us/step - loss: 0.5614 - acc: 0.7088\n",
      "Epoch 37/100\n",
      "2167/2167 [==============================] - 0s 38us/step - loss: 0.5612 - acc: 0.7120\n",
      "Epoch 38/100\n",
      "2167/2167 [==============================] - 0s 38us/step - loss: 0.5609 - acc: 0.7111\n",
      "Epoch 39/100\n",
      "2167/2167 [==============================] - 0s 42us/step - loss: 0.5609 - acc: 0.7084\n",
      "Epoch 40/100\n",
      "2167/2167 [==============================] - 0s 39us/step - loss: 0.5608 - acc: 0.7102\n",
      "Epoch 41/100\n",
      "2167/2167 [==============================] - 0s 39us/step - loss: 0.5608 - acc: 0.7107\n",
      "Epoch 42/100\n",
      "2167/2167 [==============================] - 0s 39us/step - loss: 0.5607 - acc: 0.7088\n",
      "Epoch 43/100\n",
      "2167/2167 [==============================] - 0s 38us/step - loss: 0.5608 - acc: 0.7125\n",
      "Epoch 44/100\n",
      "2167/2167 [==============================] - 0s 42us/step - loss: 0.5606 - acc: 0.7116\n",
      "Epoch 45/100\n",
      "2167/2167 [==============================] - 0s 42us/step - loss: 0.5605 - acc: 0.7107\n",
      "Epoch 46/100\n",
      "2167/2167 [==============================] - 0s 38us/step - loss: 0.5604 - acc: 0.7097\n",
      "Epoch 47/100\n",
      "2167/2167 [==============================] - 0s 39us/step - loss: 0.5605 - acc: 0.7116\n",
      "Epoch 48/100\n",
      "2167/2167 [==============================] - 0s 39us/step - loss: 0.5602 - acc: 0.7102\n",
      "Epoch 49/100\n",
      "2167/2167 [==============================] - 0s 42us/step - loss: 0.5603 - acc: 0.7107\n",
      "Epoch 50/100\n",
      "2167/2167 [==============================] - 0s 45us/step - loss: 0.5604 - acc: 0.7111\n",
      "Epoch 51/100\n",
      "2167/2167 [==============================] - 0s 45us/step - loss: 0.5606 - acc: 0.7120\n",
      "Epoch 52/100\n",
      "2167/2167 [==============================] - 0s 36us/step - loss: 0.5601 - acc: 0.7111\n",
      "Epoch 53/100\n",
      "2167/2167 [==============================] - 0s 33us/step - loss: 0.5601 - acc: 0.7125\n",
      "Epoch 54/100\n",
      "2167/2167 [==============================] - 0s 32us/step - loss: 0.5597 - acc: 0.7111\n",
      "Epoch 55/100\n",
      "2167/2167 [==============================] - 0s 38us/step - loss: 0.5599 - acc: 0.7097\n",
      "Epoch 56/100\n",
      "2167/2167 [==============================] - 0s 35us/step - loss: 0.5596 - acc: 0.7120\n",
      "Epoch 57/100\n",
      "2167/2167 [==============================] - 0s 42us/step - loss: 0.5597 - acc: 0.7130\n",
      "Epoch 58/100\n",
      "2167/2167 [==============================] - 0s 40us/step - loss: 0.5595 - acc: 0.7107\n",
      "Epoch 59/100\n",
      "2167/2167 [==============================] - 0s 35us/step - loss: 0.5596 - acc: 0.7134\n",
      "Epoch 60/100\n",
      "2167/2167 [==============================] - 0s 30us/step - loss: 0.5593 - acc: 0.7116\n",
      "Epoch 61/100\n",
      "2167/2167 [==============================] - 0s 31us/step - loss: 0.5594 - acc: 0.7102\n",
      "Epoch 62/100\n",
      "2167/2167 [==============================] - 0s 33us/step - loss: 0.5591 - acc: 0.7120\n",
      "Epoch 63/100\n",
      "2167/2167 [==============================] - 0s 39us/step - loss: 0.5592 - acc: 0.7120\n",
      "Epoch 64/100\n",
      "2167/2167 [==============================] - 0s 43us/step - loss: 0.5593 - acc: 0.7130\n",
      "Epoch 65/100\n",
      "2167/2167 [==============================] - 0s 40us/step - loss: 0.5590 - acc: 0.7125\n",
      "Epoch 66/100\n",
      "2167/2167 [==============================] - 0s 35us/step - loss: 0.5589 - acc: 0.7116\n",
      "Epoch 67/100\n",
      "2167/2167 [==============================] - 0s 33us/step - loss: 0.5590 - acc: 0.7116\n",
      "Epoch 68/100\n",
      "2167/2167 [==============================] - 0s 34us/step - loss: 0.5590 - acc: 0.7120\n",
      "Epoch 69/100\n",
      "2167/2167 [==============================] - 0s 37us/step - loss: 0.5589 - acc: 0.7130\n",
      "Epoch 70/100\n",
      "2167/2167 [==============================] - 0s 34us/step - loss: 0.5587 - acc: 0.7097\n",
      "Epoch 71/100\n",
      "2167/2167 [==============================] - 0s 35us/step - loss: 0.5587 - acc: 0.7125\n",
      "Epoch 72/100\n",
      "2167/2167 [==============================] - 0s 34us/step - loss: 0.5586 - acc: 0.7102\n",
      "Epoch 73/100\n",
      "2167/2167 [==============================] - 0s 35us/step - loss: 0.5584 - acc: 0.7120\n",
      "Epoch 74/100\n",
      "2167/2167 [==============================] - 0s 38us/step - loss: 0.5584 - acc: 0.7139\n",
      "Epoch 75/100\n",
      "2167/2167 [==============================] - 0s 36us/step - loss: 0.5582 - acc: 0.7107\n",
      "Epoch 76/100\n",
      "2167/2167 [==============================] - 0s 37us/step - loss: 0.5586 - acc: 0.7088\n",
      "Epoch 77/100\n",
      "2167/2167 [==============================] - 0s 36us/step - loss: 0.5580 - acc: 0.7107\n",
      "Epoch 78/100\n",
      "2167/2167 [==============================] - 0s 37us/step - loss: 0.5579 - acc: 0.7116\n",
      "Epoch 79/100\n",
      "2167/2167 [==============================] - 0s 39us/step - loss: 0.5578 - acc: 0.7130\n",
      "Epoch 80/100\n"
     ]
    },
    {
     "name": "stdout",
     "output_type": "stream",
     "text": [
      "2167/2167 [==============================] - 0s 38us/step - loss: 0.5577 - acc: 0.7107\n",
      "Epoch 81/100\n",
      "2167/2167 [==============================] - 0s 38us/step - loss: 0.5578 - acc: 0.7107\n",
      "Epoch 82/100\n",
      "2167/2167 [==============================] - 0s 35us/step - loss: 0.5577 - acc: 0.7116\n",
      "Epoch 83/100\n",
      "2167/2167 [==============================] - 0s 33us/step - loss: 0.5576 - acc: 0.7093\n",
      "Epoch 84/100\n",
      "2167/2167 [==============================] - 0s 36us/step - loss: 0.5573 - acc: 0.7116\n",
      "Epoch 85/100\n",
      "2167/2167 [==============================] - 0s 37us/step - loss: 0.5574 - acc: 0.7120\n",
      "Epoch 86/100\n",
      "2167/2167 [==============================] - 0s 38us/step - loss: 0.5572 - acc: 0.7093\n",
      "Epoch 87/100\n",
      "2167/2167 [==============================] - 0s 37us/step - loss: 0.5572 - acc: 0.7102\n",
      "Epoch 88/100\n",
      "2167/2167 [==============================] - 0s 37us/step - loss: 0.5573 - acc: 0.7093\n",
      "Epoch 89/100\n",
      "2167/2167 [==============================] - 0s 38us/step - loss: 0.5572 - acc: 0.7102\n",
      "Epoch 90/100\n",
      "2167/2167 [==============================] - 0s 38us/step - loss: 0.5570 - acc: 0.7107\n",
      "Epoch 91/100\n",
      "2167/2167 [==============================] - 0s 38us/step - loss: 0.5569 - acc: 0.7102\n",
      "Epoch 92/100\n",
      "2167/2167 [==============================] - 0s 37us/step - loss: 0.5570 - acc: 0.7097\n",
      "Epoch 93/100\n",
      "2167/2167 [==============================] - 0s 35us/step - loss: 0.5570 - acc: 0.7116\n",
      "Epoch 94/100\n",
      "2167/2167 [==============================] - 0s 36us/step - loss: 0.5569 - acc: 0.7102\n",
      "Epoch 95/100\n",
      "2167/2167 [==============================] - 0s 39us/step - loss: 0.5569 - acc: 0.7111\n",
      "Epoch 96/100\n",
      "2167/2167 [==============================] - 0s 37us/step - loss: 0.5569 - acc: 0.7102\n",
      "Epoch 97/100\n",
      "2167/2167 [==============================] - 0s 36us/step - loss: 0.5568 - acc: 0.7111\n",
      "Epoch 98/100\n",
      "2167/2167 [==============================] - 0s 37us/step - loss: 0.5566 - acc: 0.7102\n",
      "Epoch 99/100\n",
      "2167/2167 [==============================] - 0s 37us/step - loss: 0.5565 - acc: 0.7102\n",
      "Epoch 100/100\n",
      "2167/2167 [==============================] - 0s 38us/step - loss: 0.5565 - acc: 0.7107\n",
      "2167/2167 [==============================] - 0s 31us/step\n",
      "acc: 71.11%\n"
     ]
    }
   ],
   "source": [
    "cf = Sequential()\n",
    "cf.add(Dense(output_dim=4, init='uniform', activation='relu', input_dim=6))\n",
    "cf.add(Dense(output_dim=4, init='uniform', activation='relu'))\n",
    "cf.add(Dense(output_dim=1, init='uniform', activation='sigmoid'))\n",
    "\n",
    "cf.compile(loss='binary_crossentropy', optimizer='adam', metrics=['accuracy'])\n",
    "cf.fit(fiber_X_train, fiber_y_train, nb_epoch=100, batch_size=30)\n",
    "\n",
    "scores = cf.evaluate(fiber_X_train, fiber_y_train)\n",
    "print('%s: %.2f%%' % (cf.metrics_names[1], scores[1]*100))"
   ]
  },
  {
   "cell_type": "markdown",
   "metadata": {},
   "source": [
    "### Let's run our logistic regression model on the test set."
   ]
  },
  {
   "cell_type": "code",
   "execution_count": 21,
   "metadata": {},
   "outputs": [
    {
     "name": "stdout",
     "output_type": "stream",
     "text": [
      "Accuracy of Decision Tree classifier on test set: 0.645856\n"
     ]
    }
   ],
   "source": [
    "print('Accuracy of Decision Tree classifier on test set: {:.6f}'\n",
    "     .format(fiber_clf.score(fiber_X_test, fiber_y_test)))"
   ]
  },
  {
   "cell_type": "code",
   "execution_count": null,
   "metadata": {},
   "outputs": [],
   "source": []
  },
  {
   "cell_type": "code",
   "execution_count": null,
   "metadata": {},
   "outputs": [],
   "source": []
  },
  {
   "cell_type": "code",
   "execution_count": null,
   "metadata": {},
   "outputs": [],
   "source": []
  },
  {
   "cell_type": "code",
   "execution_count": null,
   "metadata": {},
   "outputs": [],
   "source": []
  },
  {
   "cell_type": "code",
   "execution_count": null,
   "metadata": {},
   "outputs": [],
   "source": []
  },
  {
   "cell_type": "code",
   "execution_count": null,
   "metadata": {},
   "outputs": [],
   "source": []
  },
  {
   "cell_type": "code",
   "execution_count": null,
   "metadata": {},
   "outputs": [],
   "source": []
  },
  {
   "cell_type": "code",
   "execution_count": null,
   "metadata": {},
   "outputs": [],
   "source": []
  },
  {
   "cell_type": "code",
   "execution_count": null,
   "metadata": {},
   "outputs": [],
   "source": []
  },
  {
   "cell_type": "code",
   "execution_count": null,
   "metadata": {},
   "outputs": [],
   "source": []
  }
 ],
 "metadata": {
  "kernelspec": {
   "display_name": "Python 3",
   "language": "python",
   "name": "python3"
  },
  "language_info": {
   "codemirror_mode": {
    "name": "ipython",
    "version": 3
   },
   "file_extension": ".py",
   "mimetype": "text/x-python",
   "name": "python",
   "nbconvert_exporter": "python",
   "pygments_lexer": "ipython3",
   "version": "3.7.1"
  }
 },
 "nbformat": 4,
 "nbformat_minor": 2
}
