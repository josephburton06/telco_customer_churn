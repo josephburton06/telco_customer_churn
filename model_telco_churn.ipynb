{
 "cells": [
  {
   "cell_type": "code",
   "execution_count": 3,
   "metadata": {},
   "outputs": [],
   "source": [
    "import warnings\n",
    "warnings.filterwarnings(\"ignore\")\n",
    "\n",
    "import numpy as np\n",
    "import matplotlib.pyplot as plt\n",
    "import pandas as pd\n",
    "from scipy import stats\n",
    "\n",
    "import jb_helper_functions_prep\n",
    "from jb_helper_functions_prep import create_enc\n",
    "\n",
    "import prep_telco\n",
    "from prep_telco import prep_telco_df\n",
    "\n",
    "from sklearn.model_selection import train_test_split\n",
    "from sklearn.linear_model import LogisticRegression\n",
    "from sklearn.tree import DecisionTreeClassifier\n",
    "from sklearn.metrics import classification_report\n",
    "from sklearn.metrics import confusion_matrix\n",
    "from sklearn import tree"
   ]
  },
  {
   "cell_type": "code",
   "execution_count": 4,
   "metadata": {},
   "outputs": [
    {
     "data": {
      "text/html": [
       "<div>\n",
       "<style scoped>\n",
       "    .dataframe tbody tr th:only-of-type {\n",
       "        vertical-align: middle;\n",
       "    }\n",
       "\n",
       "    .dataframe tbody tr th {\n",
       "        vertical-align: top;\n",
       "    }\n",
       "\n",
       "    .dataframe thead th {\n",
       "        text-align: right;\n",
       "    }\n",
       "</style>\n",
       "<table border=\"1\" class=\"dataframe\">\n",
       "  <thead>\n",
       "    <tr style=\"text-align: right;\">\n",
       "      <th></th>\n",
       "      <th>customerid</th>\n",
       "      <th>gender</th>\n",
       "      <th>seniorcitizen</th>\n",
       "      <th>partner</th>\n",
       "      <th>dependents</th>\n",
       "      <th>tenure</th>\n",
       "      <th>phoneservice</th>\n",
       "      <th>multiplelines</th>\n",
       "      <th>internetservice</th>\n",
       "      <th>onlinesecurity</th>\n",
       "      <th>...</th>\n",
       "      <th>onlinesecurity_enc</th>\n",
       "      <th>onlinebackup_enc</th>\n",
       "      <th>deviceprotection_enc</th>\n",
       "      <th>techsupport_enc</th>\n",
       "      <th>streamingtv_enc</th>\n",
       "      <th>streamingmovies_enc</th>\n",
       "      <th>contract_enc</th>\n",
       "      <th>paperlessbilling_enc</th>\n",
       "      <th>paymentmethod_enc</th>\n",
       "      <th>churn_enc</th>\n",
       "    </tr>\n",
       "  </thead>\n",
       "  <tbody>\n",
       "    <tr>\n",
       "      <th>0</th>\n",
       "      <td>7590-VHVEG</td>\n",
       "      <td>Female</td>\n",
       "      <td>0</td>\n",
       "      <td>Yes</td>\n",
       "      <td>No</td>\n",
       "      <td>1</td>\n",
       "      <td>No</td>\n",
       "      <td>No phone service</td>\n",
       "      <td>DSL</td>\n",
       "      <td>No</td>\n",
       "      <td>...</td>\n",
       "      <td>0</td>\n",
       "      <td>2</td>\n",
       "      <td>0</td>\n",
       "      <td>0</td>\n",
       "      <td>0</td>\n",
       "      <td>0</td>\n",
       "      <td>0</td>\n",
       "      <td>1</td>\n",
       "      <td>2</td>\n",
       "      <td>0</td>\n",
       "    </tr>\n",
       "    <tr>\n",
       "      <th>1</th>\n",
       "      <td>5575-GNVDE</td>\n",
       "      <td>Male</td>\n",
       "      <td>0</td>\n",
       "      <td>No</td>\n",
       "      <td>No</td>\n",
       "      <td>34</td>\n",
       "      <td>Yes</td>\n",
       "      <td>No</td>\n",
       "      <td>DSL</td>\n",
       "      <td>Yes</td>\n",
       "      <td>...</td>\n",
       "      <td>2</td>\n",
       "      <td>0</td>\n",
       "      <td>2</td>\n",
       "      <td>0</td>\n",
       "      <td>0</td>\n",
       "      <td>0</td>\n",
       "      <td>1</td>\n",
       "      <td>0</td>\n",
       "      <td>3</td>\n",
       "      <td>0</td>\n",
       "    </tr>\n",
       "    <tr>\n",
       "      <th>2</th>\n",
       "      <td>3668-QPYBK</td>\n",
       "      <td>Male</td>\n",
       "      <td>0</td>\n",
       "      <td>No</td>\n",
       "      <td>No</td>\n",
       "      <td>2</td>\n",
       "      <td>Yes</td>\n",
       "      <td>No</td>\n",
       "      <td>DSL</td>\n",
       "      <td>Yes</td>\n",
       "      <td>...</td>\n",
       "      <td>2</td>\n",
       "      <td>2</td>\n",
       "      <td>0</td>\n",
       "      <td>0</td>\n",
       "      <td>0</td>\n",
       "      <td>0</td>\n",
       "      <td>0</td>\n",
       "      <td>1</td>\n",
       "      <td>3</td>\n",
       "      <td>1</td>\n",
       "    </tr>\n",
       "    <tr>\n",
       "      <th>3</th>\n",
       "      <td>7795-CFOCW</td>\n",
       "      <td>Male</td>\n",
       "      <td>0</td>\n",
       "      <td>No</td>\n",
       "      <td>No</td>\n",
       "      <td>45</td>\n",
       "      <td>No</td>\n",
       "      <td>No phone service</td>\n",
       "      <td>DSL</td>\n",
       "      <td>Yes</td>\n",
       "      <td>...</td>\n",
       "      <td>2</td>\n",
       "      <td>0</td>\n",
       "      <td>2</td>\n",
       "      <td>2</td>\n",
       "      <td>0</td>\n",
       "      <td>0</td>\n",
       "      <td>1</td>\n",
       "      <td>0</td>\n",
       "      <td>0</td>\n",
       "      <td>0</td>\n",
       "    </tr>\n",
       "    <tr>\n",
       "      <th>4</th>\n",
       "      <td>9237-HQITU</td>\n",
       "      <td>Female</td>\n",
       "      <td>0</td>\n",
       "      <td>No</td>\n",
       "      <td>No</td>\n",
       "      <td>2</td>\n",
       "      <td>Yes</td>\n",
       "      <td>No</td>\n",
       "      <td>Fiber optic</td>\n",
       "      <td>No</td>\n",
       "      <td>...</td>\n",
       "      <td>0</td>\n",
       "      <td>0</td>\n",
       "      <td>0</td>\n",
       "      <td>0</td>\n",
       "      <td>0</td>\n",
       "      <td>0</td>\n",
       "      <td>0</td>\n",
       "      <td>1</td>\n",
       "      <td>2</td>\n",
       "      <td>1</td>\n",
       "    </tr>\n",
       "  </tbody>\n",
       "</table>\n",
       "<p>5 rows × 37 columns</p>\n",
       "</div>"
      ],
      "text/plain": [
       "   customerid  gender  seniorcitizen partner dependents  tenure phoneservice  \\\n",
       "0  7590-VHVEG  Female              0     Yes         No       1           No   \n",
       "1  5575-GNVDE    Male              0      No         No      34          Yes   \n",
       "2  3668-QPYBK    Male              0      No         No       2          Yes   \n",
       "3  7795-CFOCW    Male              0      No         No      45           No   \n",
       "4  9237-HQITU  Female              0      No         No       2          Yes   \n",
       "\n",
       "      multiplelines internetservice onlinesecurity    ...      \\\n",
       "0  No phone service             DSL             No    ...       \n",
       "1                No             DSL            Yes    ...       \n",
       "2                No             DSL            Yes    ...       \n",
       "3  No phone service             DSL            Yes    ...       \n",
       "4                No     Fiber optic             No    ...       \n",
       "\n",
       "  onlinesecurity_enc onlinebackup_enc deviceprotection_enc techsupport_enc  \\\n",
       "0                  0                2                    0               0   \n",
       "1                  2                0                    2               0   \n",
       "2                  2                2                    0               0   \n",
       "3                  2                0                    2               2   \n",
       "4                  0                0                    0               0   \n",
       "\n",
       "  streamingtv_enc streamingmovies_enc contract_enc paperlessbilling_enc  \\\n",
       "0               0                   0            0                    1   \n",
       "1               0                   0            1                    0   \n",
       "2               0                   0            0                    1   \n",
       "3               0                   0            1                    0   \n",
       "4               0                   0            0                    1   \n",
       "\n",
       "   paymentmethod_enc  churn_enc  \n",
       "0                  2          0  \n",
       "1                  3          0  \n",
       "2                  3          1  \n",
       "3                  0          0  \n",
       "4                  2          1  \n",
       "\n",
       "[5 rows x 37 columns]"
      ]
     },
     "execution_count": 4,
     "metadata": {},
     "output_type": "execute_result"
    }
   ],
   "source": [
    "df = prep_telco_df()\n",
    "df.head()"
   ]
  },
  {
   "cell_type": "code",
   "execution_count": 5,
   "metadata": {},
   "outputs": [],
   "source": [
    "train, test = train_test_split(df, test_size=.3, random_state=123, stratify=df[['churn_enc']])"
   ]
  },
  {
   "cell_type": "code",
   "execution_count": 22,
   "metadata": {},
   "outputs": [
    {
     "name": "stdout",
     "output_type": "stream",
     "text": [
      "Percent of non-churn: 0.7342543681430312\n",
      "Percent of churn: 0.2657456318569687\n"
     ]
    }
   ],
   "source": [
    "print('Percent of non-churn: ' + str(train.churn_enc.value_counts()[0]/train.churn_enc.count()))\n",
    "print('Percent of churn: ' + str(train.churn_enc.value_counts()[1]/train.churn_enc.count()))"
   ]
  },
  {
   "cell_type": "markdown",
   "metadata": {},
   "source": [
    "### We see that our train set has 73.4% of customers that did not churn.  This is our benchmark for now.  "
   ]
  },
  {
   "cell_type": "code",
   "execution_count": 6,
   "metadata": {},
   "outputs": [],
   "source": [
    "y_train = train[['churn_enc']]\n",
    "y_test = test[['churn_enc']]"
   ]
  },
  {
   "cell_type": "code",
   "execution_count": 7,
   "metadata": {},
   "outputs": [
    {
     "data": {
      "text/plain": [
       "Index(['customerid', 'gender', 'seniorcitizen', 'partner', 'dependents',\n",
       "       'tenure', 'phoneservice', 'multiplelines', 'internetservice',\n",
       "       'onlinesecurity', 'onlinebackup', 'deviceprotection', 'techsupport',\n",
       "       'streamingtv', 'streamingmovies', 'contract', 'paperlessbilling',\n",
       "       'paymentmethod', 'monthlycharges', 'totalcharges', 'churn',\n",
       "       'gender_enc', 'partner_enc', 'dependents_enc', 'phoneservice_enc',\n",
       "       'multiplelines_enc', 'internetservice_enc', 'onlinesecurity_enc',\n",
       "       'onlinebackup_enc', 'deviceprotection_enc', 'techsupport_enc',\n",
       "       'streamingtv_enc', 'streamingmovies_enc', 'contract_enc',\n",
       "       'paperlessbilling_enc', 'paymentmethod_enc', 'churn_enc'],\n",
       "      dtype='object')"
      ]
     },
     "execution_count": 7,
     "metadata": {},
     "output_type": "execute_result"
    }
   ],
   "source": [
    "df.columns"
   ]
  },
  {
   "cell_type": "code",
   "execution_count": 36,
   "metadata": {},
   "outputs": [],
   "source": [
    "X_train = train[['tenure', 'monthlycharges', 'internetservice_enc', 'techsupport_enc', 'contract_enc', 'phoneservice_enc']]\n",
    "X_test = test[['tenure', 'monthlycharges', 'internetservice_enc', 'techsupport_enc', 'contract_enc', 'phoneservice_enc']]"
   ]
  },
  {
   "cell_type": "markdown",
   "metadata": {},
   "source": [
    "### Let's try a decision tree."
   ]
  },
  {
   "cell_type": "code",
   "execution_count": 51,
   "metadata": {},
   "outputs": [
    {
     "name": "stdout",
     "output_type": "stream",
     "text": [
      "Accuracy of Decision Tree classifier on training set: 0.795815\n"
     ]
    }
   ],
   "source": [
    "clf = DecisionTreeClassifier(criterion='entropy', max_depth=5, random_state=123).fit(X_train, y_train)\n",
    "y_pred = clf.predict(X_train)\n",
    "y_pred_proba = clf.predict_proba(X_train)\n",
    "print('Accuracy of Decision Tree classifier on training set: {:.6f}'\n",
    "     .format(clf.score(X_train, y_train)))"
   ]
  },
  {
   "cell_type": "code",
   "execution_count": 52,
   "metadata": {},
   "outputs": [
    {
     "name": "stdout",
     "output_type": "stream",
     "text": [
      "              precision    recall  f1-score   support\n",
      "\n",
      "           0       0.82      0.92      0.87      3614\n",
      "           1       0.67      0.45      0.54      1308\n",
      "\n",
      "   micro avg       0.80      0.80      0.80      4922\n",
      "   macro avg       0.75      0.68      0.70      4922\n",
      "weighted avg       0.78      0.80      0.78      4922\n",
      "\n"
     ]
    }
   ],
   "source": [
    "print(classification_report(y_train, y_pred))"
   ]
  },
  {
   "cell_type": "code",
   "execution_count": 53,
   "metadata": {},
   "outputs": [
    {
     "data": {
      "text/html": [
       "<div>\n",
       "<style scoped>\n",
       "    .dataframe tbody tr th:only-of-type {\n",
       "        vertical-align: middle;\n",
       "    }\n",
       "\n",
       "    .dataframe tbody tr th {\n",
       "        vertical-align: top;\n",
       "    }\n",
       "\n",
       "    .dataframe thead th {\n",
       "        text-align: right;\n",
       "    }\n",
       "</style>\n",
       "<table border=\"1\" class=\"dataframe\">\n",
       "  <thead>\n",
       "    <tr style=\"text-align: right;\">\n",
       "      <th></th>\n",
       "      <th>Pred -</th>\n",
       "      <th>Pred +</th>\n",
       "    </tr>\n",
       "  </thead>\n",
       "  <tbody>\n",
       "    <tr>\n",
       "      <th>Actual -</th>\n",
       "      <td>3331</td>\n",
       "      <td>283</td>\n",
       "    </tr>\n",
       "    <tr>\n",
       "      <th>Actual +</th>\n",
       "      <td>722</td>\n",
       "      <td>586</td>\n",
       "    </tr>\n",
       "  </tbody>\n",
       "</table>\n",
       "</div>"
      ],
      "text/plain": [
       "          Pred -  Pred +\n",
       "Actual -    3331     283\n",
       "Actual +     722     586"
      ]
     },
     "execution_count": 53,
     "metadata": {},
     "output_type": "execute_result"
    }
   ],
   "source": [
    "cm = pd.DataFrame(confusion_matrix(y_train, y_pred),\n",
    "             columns=['Pred -', 'Pred +'], index=['Actual -', 'Actual +'])\n",
    "\n",
    "cm"
   ]
  },
  {
   "cell_type": "markdown",
   "metadata": {},
   "source": [
    "### Now, let's try logistic regression."
   ]
  },
  {
   "cell_type": "code",
   "execution_count": 54,
   "metadata": {},
   "outputs": [
    {
     "name": "stdout",
     "output_type": "stream",
     "text": [
      "Accuracy of Logistic Regression classifier on training set: 0.797643\n"
     ]
    }
   ],
   "source": [
    "log_reg = LogisticRegression(random_state=123, solver='saga').fit(X_train, y_train)\n",
    "y_pred = log_reg.predict(X_train)\n",
    "print('Accuracy of Logistic Regression classifier on training set: {:.6f}'\n",
    "     .format(log_reg.score(X_train, y_train)))"
   ]
  },
  {
   "cell_type": "code",
   "execution_count": 55,
   "metadata": {},
   "outputs": [
    {
     "name": "stdout",
     "output_type": "stream",
     "text": [
      "              precision    recall  f1-score   support\n",
      "\n",
      "           0       0.84      0.90      0.87      3614\n",
      "           1       0.65      0.52      0.58      1308\n",
      "\n",
      "   micro avg       0.80      0.80      0.80      4922\n",
      "   macro avg       0.74      0.71      0.72      4922\n",
      "weighted avg       0.79      0.80      0.79      4922\n",
      "\n"
     ]
    }
   ],
   "source": [
    "print(classification_report(y_train, y_pred))"
   ]
  },
  {
   "cell_type": "code",
   "execution_count": 56,
   "metadata": {},
   "outputs": [
    {
     "data": {
      "text/html": [
       "<div>\n",
       "<style scoped>\n",
       "    .dataframe tbody tr th:only-of-type {\n",
       "        vertical-align: middle;\n",
       "    }\n",
       "\n",
       "    .dataframe tbody tr th {\n",
       "        vertical-align: top;\n",
       "    }\n",
       "\n",
       "    .dataframe thead th {\n",
       "        text-align: right;\n",
       "    }\n",
       "</style>\n",
       "<table border=\"1\" class=\"dataframe\">\n",
       "  <thead>\n",
       "    <tr style=\"text-align: right;\">\n",
       "      <th></th>\n",
       "      <th>Pred -</th>\n",
       "      <th>Pred +</th>\n",
       "    </tr>\n",
       "  </thead>\n",
       "  <tbody>\n",
       "    <tr>\n",
       "      <th>Actual -</th>\n",
       "      <td>3246</td>\n",
       "      <td>368</td>\n",
       "    </tr>\n",
       "    <tr>\n",
       "      <th>Actual +</th>\n",
       "      <td>628</td>\n",
       "      <td>680</td>\n",
       "    </tr>\n",
       "  </tbody>\n",
       "</table>\n",
       "</div>"
      ],
      "text/plain": [
       "          Pred -  Pred +\n",
       "Actual -    3246     368\n",
       "Actual +     628     680"
      ]
     },
     "execution_count": 56,
     "metadata": {},
     "output_type": "execute_result"
    }
   ],
   "source": [
    "cm = pd.DataFrame(confusion_matrix(y_train, y_pred),\n",
    "             columns=['Pred -', 'Pred +'], index=['Actual -', 'Actual +'])\n",
    "\n",
    "cm"
   ]
  },
  {
   "cell_type": "markdown",
   "metadata": {},
   "source": [
    "### Let's see how these compare to a keras ANN model."
   ]
  },
  {
   "cell_type": "code",
   "execution_count": null,
   "metadata": {},
   "outputs": [],
   "source": []
  },
  {
   "cell_type": "code",
   "execution_count": 45,
   "metadata": {},
   "outputs": [
    {
     "name": "stderr",
     "output_type": "stream",
     "text": [
      "Using TensorFlow backend.\n"
     ]
    }
   ],
   "source": [
    "from sklearn.preprocessing import StandardScaler\n",
    "\n",
    "import keras\n",
    "from keras.models import Sequential\n",
    "from keras.layers import Dense\n",
    "\n",
    "sc = StandardScaler()\n",
    "X_train = sc.fit_transform(X_train)\n",
    "X_test = sc.transform(X_test)"
   ]
  },
  {
   "cell_type": "code",
   "execution_count": 50,
   "metadata": {},
   "outputs": [
    {
     "name": "stdout",
     "output_type": "stream",
     "text": [
      "Epoch 1/100\n",
      "4922/4922 [==============================] - 1s 102us/step - loss: 0.6486 - acc: 0.7338\n",
      "Epoch 2/100\n",
      "4922/4922 [==============================] - 0s 36us/step - loss: 0.5059 - acc: 0.7343\n",
      "Epoch 3/100\n",
      "4922/4922 [==============================] - 0s 37us/step - loss: 0.4683 - acc: 0.7343\n",
      "Epoch 4/100\n",
      "4922/4922 [==============================] - 0s 36us/step - loss: 0.4557 - acc: 0.7343\n",
      "Epoch 5/100\n",
      "4922/4922 [==============================] - 0s 38us/step - loss: 0.4477 - acc: 0.7343\n",
      "Epoch 6/100\n",
      "4922/4922 [==============================] - 0s 36us/step - loss: 0.4416 - acc: 0.7379\n",
      "Epoch 7/100\n",
      "4922/4922 [==============================] - 0s 37us/step - loss: 0.4390 - acc: 0.7974\n",
      "Epoch 8/100\n",
      "4922/4922 [==============================] - 0s 37us/step - loss: 0.4373 - acc: 0.7962\n",
      "Epoch 9/100\n",
      "4922/4922 [==============================] - 0s 36us/step - loss: 0.4361 - acc: 0.7960\n",
      "Epoch 10/100\n",
      "4922/4922 [==============================] - 0s 37us/step - loss: 0.4344 - acc: 0.7970\n",
      "Epoch 11/100\n",
      "4922/4922 [==============================] - 0s 36us/step - loss: 0.4331 - acc: 0.7970\n",
      "Epoch 12/100\n",
      "4922/4922 [==============================] - 0s 38us/step - loss: 0.4323 - acc: 0.7960\n",
      "Epoch 13/100\n",
      "4922/4922 [==============================] - 0s 37us/step - loss: 0.4312 - acc: 0.7948\n",
      "Epoch 14/100\n",
      "4922/4922 [==============================] - 0s 38us/step - loss: 0.4305 - acc: 0.7940\n",
      "Epoch 15/100\n",
      "4922/4922 [==============================] - 0s 38us/step - loss: 0.4297 - acc: 0.7946\n",
      "Epoch 16/100\n",
      "4922/4922 [==============================] - 0s 38us/step - loss: 0.4292 - acc: 0.7952\n",
      "Epoch 17/100\n",
      "4922/4922 [==============================] - 0s 37us/step - loss: 0.4286 - acc: 0.7948\n",
      "Epoch 18/100\n",
      "4922/4922 [==============================] - 0s 37us/step - loss: 0.4284 - acc: 0.7950\n",
      "Epoch 19/100\n",
      "4922/4922 [==============================] - 0s 37us/step - loss: 0.4281 - acc: 0.7944\n",
      "Epoch 20/100\n",
      "4922/4922 [==============================] - 0s 37us/step - loss: 0.4274 - acc: 0.7944\n",
      "Epoch 21/100\n",
      "4922/4922 [==============================] - 0s 38us/step - loss: 0.4272 - acc: 0.7944\n",
      "Epoch 22/100\n",
      "4922/4922 [==============================] - 0s 37us/step - loss: 0.4269 - acc: 0.7944\n",
      "Epoch 23/100\n",
      "4922/4922 [==============================] - 0s 36us/step - loss: 0.4264 - acc: 0.7940\n",
      "Epoch 24/100\n",
      "4922/4922 [==============================] - 0s 38us/step - loss: 0.4262 - acc: 0.7958\n",
      "Epoch 25/100\n",
      "4922/4922 [==============================] - 0s 36us/step - loss: 0.4261 - acc: 0.7946\n",
      "Epoch 26/100\n",
      "4922/4922 [==============================] - 0s 37us/step - loss: 0.4259 - acc: 0.7968\n",
      "Epoch 27/100\n",
      "4922/4922 [==============================] - 0s 37us/step - loss: 0.4256 - acc: 0.7954\n",
      "Epoch 28/100\n",
      "4922/4922 [==============================] - 0s 38us/step - loss: 0.4253 - acc: 0.7956\n",
      "Epoch 29/100\n",
      "4922/4922 [==============================] - 0s 37us/step - loss: 0.4251 - acc: 0.7956\n",
      "Epoch 30/100\n",
      "4922/4922 [==============================] - 0s 38us/step - loss: 0.4248 - acc: 0.7970\n",
      "Epoch 31/100\n",
      "4922/4922 [==============================] - 0s 36us/step - loss: 0.4247 - acc: 0.7954\n",
      "Epoch 32/100\n",
      "4922/4922 [==============================] - 0s 36us/step - loss: 0.4245 - acc: 0.7942\n",
      "Epoch 33/100\n",
      "4922/4922 [==============================] - 0s 36us/step - loss: 0.4248 - acc: 0.7954\n",
      "Epoch 34/100\n",
      "4922/4922 [==============================] - 0s 36us/step - loss: 0.4243 - acc: 0.7972\n",
      "Epoch 35/100\n",
      "4922/4922 [==============================] - 0s 37us/step - loss: 0.4244 - acc: 0.7968\n",
      "Epoch 36/100\n",
      "4922/4922 [==============================] - 0s 37us/step - loss: 0.4243 - acc: 0.7956\n",
      "Epoch 37/100\n",
      "4922/4922 [==============================] - 0s 38us/step - loss: 0.4240 - acc: 0.7956\n",
      "Epoch 38/100\n",
      "4922/4922 [==============================] - 0s 39us/step - loss: 0.4237 - acc: 0.7950\n",
      "Epoch 39/100\n",
      "4922/4922 [==============================] - 0s 43us/step - loss: 0.4238 - acc: 0.7962\n",
      "Epoch 40/100\n",
      "4922/4922 [==============================] - 0s 32us/step - loss: 0.4237 - acc: 0.7948\n",
      "Epoch 41/100\n",
      "4922/4922 [==============================] - 0s 43us/step - loss: 0.4239 - acc: 0.7946\n",
      "Epoch 42/100\n",
      "4922/4922 [==============================] - 0s 39us/step - loss: 0.4237 - acc: 0.7960\n",
      "Epoch 43/100\n",
      "4922/4922 [==============================] - 0s 36us/step - loss: 0.4237 - acc: 0.7962\n",
      "Epoch 44/100\n",
      "4922/4922 [==============================] - 0s 37us/step - loss: 0.4235 - acc: 0.7954\n",
      "Epoch 45/100\n",
      "4922/4922 [==============================] - 0s 38us/step - loss: 0.4236 - acc: 0.7942\n",
      "Epoch 46/100\n",
      "4922/4922 [==============================] - 0s 39us/step - loss: 0.4238 - acc: 0.7936\n",
      "Epoch 47/100\n",
      "4922/4922 [==============================] - 0s 38us/step - loss: 0.4238 - acc: 0.7954\n",
      "Epoch 48/100\n",
      "4922/4922 [==============================] - 0s 39us/step - loss: 0.4236 - acc: 0.7936\n",
      "Epoch 49/100\n",
      "4922/4922 [==============================] - 0s 38us/step - loss: 0.4232 - acc: 0.7960\n",
      "Epoch 50/100\n",
      "4922/4922 [==============================] - 0s 37us/step - loss: 0.4232 - acc: 0.7958\n",
      "Epoch 51/100\n",
      "4922/4922 [==============================] - 0s 50us/step - loss: 0.4231 - acc: 0.7940\n",
      "Epoch 52/100\n",
      "4922/4922 [==============================] - 0s 46us/step - loss: 0.4228 - acc: 0.7956\n",
      "Epoch 53/100\n",
      "4922/4922 [==============================] - 0s 42us/step - loss: 0.4232 - acc: 0.7944\n",
      "Epoch 54/100\n",
      "4922/4922 [==============================] - 0s 34us/step - loss: 0.4229 - acc: 0.7954\n",
      "Epoch 55/100\n",
      "4922/4922 [==============================] - 0s 35us/step - loss: 0.4228 - acc: 0.7956\n",
      "Epoch 56/100\n",
      "4922/4922 [==============================] - 0s 34us/step - loss: 0.4230 - acc: 0.7966\n",
      "Epoch 57/100\n",
      "4922/4922 [==============================] - 0s 35us/step - loss: 0.4228 - acc: 0.7970\n",
      "Epoch 58/100\n",
      "4922/4922 [==============================] - 0s 49us/step - loss: 0.4230 - acc: 0.7952\n",
      "Epoch 59/100\n",
      "4922/4922 [==============================] - 0s 49us/step - loss: 0.4229 - acc: 0.7950\n",
      "Epoch 60/100\n",
      "4922/4922 [==============================] - 0s 39us/step - loss: 0.4228 - acc: 0.7942\n",
      "Epoch 61/100\n",
      "4922/4922 [==============================] - 0s 36us/step - loss: 0.4226 - acc: 0.7966\n",
      "Epoch 62/100\n",
      "4922/4922 [==============================] - 0s 40us/step - loss: 0.4230 - acc: 0.7960\n",
      "Epoch 63/100\n",
      "4922/4922 [==============================] - 0s 44us/step - loss: 0.4229 - acc: 0.7962\n",
      "Epoch 64/100\n",
      "4922/4922 [==============================] - 0s 46us/step - loss: 0.4227 - acc: 0.7964\n",
      "Epoch 65/100\n",
      "4922/4922 [==============================] - 0s 40us/step - loss: 0.4229 - acc: 0.7938\n",
      "Epoch 66/100\n",
      "4922/4922 [==============================] - 0s 38us/step - loss: 0.4225 - acc: 0.7958\n",
      "Epoch 67/100\n",
      "4922/4922 [==============================] - 0s 44us/step - loss: 0.4227 - acc: 0.7954\n",
      "Epoch 68/100\n",
      "4922/4922 [==============================] - 0s 49us/step - loss: 0.4226 - acc: 0.7954\n",
      "Epoch 69/100\n",
      "4922/4922 [==============================] - 0s 42us/step - loss: 0.4226 - acc: 0.7958\n",
      "Epoch 70/100\n",
      "4922/4922 [==============================] - 0s 42us/step - loss: 0.4228 - acc: 0.7954\n",
      "Epoch 71/100\n",
      "4922/4922 [==============================] - 0s 43us/step - loss: 0.4226 - acc: 0.7958\n",
      "Epoch 72/100\n",
      "4922/4922 [==============================] - 0s 39us/step - loss: 0.4224 - acc: 0.7958\n",
      "Epoch 73/100\n",
      "4922/4922 [==============================] - 0s 37us/step - loss: 0.4228 - acc: 0.7952\n",
      "Epoch 74/100\n",
      "4922/4922 [==============================] - 0s 39us/step - loss: 0.4224 - acc: 0.7974\n",
      "Epoch 75/100\n",
      "4922/4922 [==============================] - 0s 45us/step - loss: 0.4223 - acc: 0.7954\n",
      "Epoch 76/100\n",
      "4922/4922 [==============================] - 0s 43us/step - loss: 0.4224 - acc: 0.7940\n",
      "Epoch 77/100\n",
      "4922/4922 [==============================] - 0s 42us/step - loss: 0.4223 - acc: 0.7958\n",
      "Epoch 78/100\n",
      "4922/4922 [==============================] - 0s 43us/step - loss: 0.4226 - acc: 0.7940\n",
      "Epoch 79/100\n",
      "4922/4922 [==============================] - 0s 39us/step - loss: 0.4223 - acc: 0.7972\n",
      "Epoch 80/100\n",
      "4922/4922 [==============================] - 0s 34us/step - loss: 0.4222 - acc: 0.7948\n",
      "Epoch 81/100\n",
      "4922/4922 [==============================] - 0s 47us/step - loss: 0.4223 - acc: 0.7960\n",
      "Epoch 82/100\n",
      "4922/4922 [==============================] - 0s 40us/step - loss: 0.4226 - acc: 0.7962\n",
      "Epoch 83/100\n"
     ]
    },
    {
     "name": "stdout",
     "output_type": "stream",
     "text": [
      "4922/4922 [==============================] - 0s 44us/step - loss: 0.4222 - acc: 0.7946\n",
      "Epoch 84/100\n",
      "4922/4922 [==============================] - 0s 43us/step - loss: 0.4226 - acc: 0.7944\n",
      "Epoch 85/100\n",
      "4922/4922 [==============================] - 0s 36us/step - loss: 0.4222 - acc: 0.7940\n",
      "Epoch 86/100\n",
      "4922/4922 [==============================] - 0s 37us/step - loss: 0.4226 - acc: 0.7946\n",
      "Epoch 87/100\n",
      "4922/4922 [==============================] - 0s 39us/step - loss: 0.4220 - acc: 0.7956\n",
      "Epoch 88/100\n",
      "4922/4922 [==============================] - 0s 47us/step - loss: 0.4221 - acc: 0.7964\n",
      "Epoch 89/100\n",
      "4922/4922 [==============================] - 0s 44us/step - loss: 0.4224 - acc: 0.7950\n",
      "Epoch 90/100\n",
      "4922/4922 [==============================] - 0s 43us/step - loss: 0.4221 - acc: 0.7950\n",
      "Epoch 91/100\n",
      "4922/4922 [==============================] - 0s 43us/step - loss: 0.4224 - acc: 0.7966\n",
      "Epoch 92/100\n",
      "4922/4922 [==============================] - 0s 42us/step - loss: 0.4220 - acc: 0.7956\n",
      "Epoch 93/100\n",
      "4922/4922 [==============================] - 0s 37us/step - loss: 0.4217 - acc: 0.7958\n",
      "Epoch 94/100\n",
      "4922/4922 [==============================] - 0s 37us/step - loss: 0.4218 - acc: 0.7952\n",
      "Epoch 95/100\n",
      "4922/4922 [==============================] - 0s 43us/step - loss: 0.4219 - acc: 0.7952\n",
      "Epoch 96/100\n",
      "4922/4922 [==============================] - 0s 47us/step - loss: 0.4219 - acc: 0.7934\n",
      "Epoch 97/100\n",
      "4922/4922 [==============================] - 0s 45us/step - loss: 0.4221 - acc: 0.7936\n",
      "Epoch 98/100\n",
      "4922/4922 [==============================] - 0s 45us/step - loss: 0.4218 - acc: 0.7966\n",
      "Epoch 99/100\n",
      "4922/4922 [==============================] - 0s 45us/step - loss: 0.4221 - acc: 0.7944\n",
      "Epoch 100/100\n",
      "4922/4922 [==============================] - 0s 41us/step - loss: 0.4223 - acc: 0.7954\n",
      "4922/4922 [==============================] - 0s 29us/step\n",
      "acc: 79.58%\n"
     ]
    }
   ],
   "source": [
    "cf = Sequential()\n",
    "cf.add(Dense(output_dim=4, init='uniform', activation='relu', input_dim=6))\n",
    "cf.add(Dense(output_dim=4, init='uniform', activation='relu'))\n",
    "cf.add(Dense(output_dim=1, init='uniform', activation='sigmoid'))\n",
    "\n",
    "cf.compile(loss='binary_crossentropy', optimizer='adam', metrics=['accuracy'])\n",
    "cf.fit(X_train, y_train, nb_epoch=100, batch_size=30)\n",
    "\n",
    "scores = cf.evaluate(X_train, y_train)\n",
    "print('%s: %.2f%%' % (cf.metrics_names[1], scores[1]*100))"
   ]
  },
  {
   "cell_type": "markdown",
   "metadata": {},
   "source": [
    "### Let's run our logistic regression model on the test set."
   ]
  },
  {
   "cell_type": "code",
   "execution_count": 57,
   "metadata": {},
   "outputs": [
    {
     "name": "stdout",
     "output_type": "stream",
     "text": [
      "Accuracy of Decision Tree classifier on test set: 0.793839\n"
     ]
    }
   ],
   "source": [
    "print('Accuracy of Decision Tree classifier on test set: {:.6f}'\n",
    "     .format(log_reg.score(X_test, y_test)))"
   ]
  },
  {
   "cell_type": "code",
   "execution_count": null,
   "metadata": {},
   "outputs": [],
   "source": []
  },
  {
   "cell_type": "code",
   "execution_count": null,
   "metadata": {},
   "outputs": [],
   "source": []
  },
  {
   "cell_type": "code",
   "execution_count": null,
   "metadata": {},
   "outputs": [],
   "source": []
  },
  {
   "cell_type": "code",
   "execution_count": null,
   "metadata": {},
   "outputs": [],
   "source": []
  },
  {
   "cell_type": "code",
   "execution_count": null,
   "metadata": {},
   "outputs": [],
   "source": []
  },
  {
   "cell_type": "code",
   "execution_count": null,
   "metadata": {},
   "outputs": [],
   "source": []
  },
  {
   "cell_type": "code",
   "execution_count": null,
   "metadata": {},
   "outputs": [],
   "source": []
  },
  {
   "cell_type": "code",
   "execution_count": null,
   "metadata": {},
   "outputs": [],
   "source": []
  },
  {
   "cell_type": "code",
   "execution_count": null,
   "metadata": {},
   "outputs": [],
   "source": []
  },
  {
   "cell_type": "code",
   "execution_count": null,
   "metadata": {},
   "outputs": [],
   "source": []
  }
 ],
 "metadata": {
  "kernelspec": {
   "display_name": "Python 3",
   "language": "python",
   "name": "python3"
  },
  "language_info": {
   "codemirror_mode": {
    "name": "ipython",
    "version": 3
   },
   "file_extension": ".py",
   "mimetype": "text/x-python",
   "name": "python",
   "nbconvert_exporter": "python",
   "pygments_lexer": "ipython3",
   "version": "3.7.1"
  }
 },
 "nbformat": 4,
 "nbformat_minor": 2
}
